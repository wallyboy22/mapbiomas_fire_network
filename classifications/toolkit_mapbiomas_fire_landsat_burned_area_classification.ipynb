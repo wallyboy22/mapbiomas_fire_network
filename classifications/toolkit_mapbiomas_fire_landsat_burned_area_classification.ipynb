{
  "nbformat": 4,
  "nbformat_minor": 0,
  "metadata": {
    "colab": {
      "provenance": []
    },
    "kernelspec": {
      "name": "python3",
      "display_name": "Python 3"
    },
    "language_info": {
      "name": "python"
    },
    "widgets": {
      "application/vnd.jupyter.widget-state+json": {
        "f52e2a003d45470c99196dc33c1b97f5": {
          "model_module": "@jupyter-widgets/controls",
          "model_name": "DropdownModel",
          "model_module_version": "1.5.0",
          "state": {
            "_dom_classes": [],
            "_model_module": "@jupyter-widgets/controls",
            "_model_module_version": "1.5.0",
            "_model_name": "DropdownModel",
            "_options_labels": [
              "",
              "bolivia",
              "chile",
              "colombia",
              "focus_sul_america",
              "guyana",
              "paraguay",
              "peru"
            ],
            "_view_count": null,
            "_view_module": "@jupyter-widgets/controls",
            "_view_module_version": "1.5.0",
            "_view_name": "DropdownView",
            "description": "Países:",
            "description_tooltip": null,
            "disabled": false,
            "index": 1,
            "layout": "IPY_MODEL_b093191300834037887063fe9e04198d",
            "style": "IPY_MODEL_d9de7294330245f8a528306fb3f5415f"
          }
        },
        "b093191300834037887063fe9e04198d": {
          "model_module": "@jupyter-widgets/base",
          "model_name": "LayoutModel",
          "model_module_version": "1.2.0",
          "state": {
            "_model_module": "@jupyter-widgets/base",
            "_model_module_version": "1.2.0",
            "_model_name": "LayoutModel",
            "_view_count": null,
            "_view_module": "@jupyter-widgets/base",
            "_view_module_version": "1.2.0",
            "_view_name": "LayoutView",
            "align_content": null,
            "align_items": null,
            "align_self": null,
            "border": null,
            "bottom": null,
            "display": null,
            "flex": null,
            "flex_flow": null,
            "grid_area": null,
            "grid_auto_columns": null,
            "grid_auto_flow": null,
            "grid_auto_rows": null,
            "grid_column": null,
            "grid_gap": null,
            "grid_row": null,
            "grid_template_areas": null,
            "grid_template_columns": null,
            "grid_template_rows": null,
            "height": null,
            "justify_content": null,
            "justify_items": null,
            "left": null,
            "margin": null,
            "max_height": null,
            "max_width": null,
            "min_height": null,
            "min_width": null,
            "object_fit": null,
            "object_position": null,
            "order": null,
            "overflow": null,
            "overflow_x": null,
            "overflow_y": null,
            "padding": null,
            "right": null,
            "top": null,
            "visibility": null,
            "width": null
          }
        },
        "d9de7294330245f8a528306fb3f5415f": {
          "model_module": "@jupyter-widgets/controls",
          "model_name": "DescriptionStyleModel",
          "model_module_version": "1.5.0",
          "state": {
            "_model_module": "@jupyter-widgets/controls",
            "_model_module_version": "1.5.0",
            "_model_name": "DescriptionStyleModel",
            "_view_count": null,
            "_view_module": "@jupyter-widgets/base",
            "_view_module_version": "1.2.0",
            "_view_name": "StyleView",
            "description_width": ""
          }
        },
        "cf67c8c8204a4eeb90034b5961a16e71": {
          "model_module": "@jupyter-widgets/controls",
          "model_name": "VBoxModel",
          "model_module_version": "1.5.0",
          "state": {
            "_dom_classes": [],
            "_model_module": "@jupyter-widgets/controls",
            "_model_module_version": "1.5.0",
            "_model_name": "VBoxModel",
            "_view_count": null,
            "_view_module": "@jupyter-widgets/controls",
            "_view_module_version": "1.5.0",
            "_view_name": "VBoxView",
            "box_style": "",
            "children": [
              "IPY_MODEL_2b9ecfa6091a4b3ea16cb695cb484d08",
              "IPY_MODEL_f489a35341de4269b56239f98a4f19ca",
              "IPY_MODEL_d4ef216214594ec6b096831a4a25ab64",
              "IPY_MODEL_05bf1fb5553544e4912535566348281c"
            ],
            "layout": "IPY_MODEL_5e36def3a89d4d67b207bca3910c2e99"
          }
        },
        "5e36def3a89d4d67b207bca3910c2e99": {
          "model_module": "@jupyter-widgets/base",
          "model_name": "LayoutModel",
          "model_module_version": "1.2.0",
          "state": {
            "_model_module": "@jupyter-widgets/base",
            "_model_module_version": "1.2.0",
            "_model_name": "LayoutModel",
            "_view_count": null,
            "_view_module": "@jupyter-widgets/base",
            "_view_module_version": "1.2.0",
            "_view_name": "LayoutView",
            "align_content": null,
            "align_items": null,
            "align_self": null,
            "border": null,
            "bottom": null,
            "display": null,
            "flex": null,
            "flex_flow": null,
            "grid_area": null,
            "grid_auto_columns": null,
            "grid_auto_flow": null,
            "grid_auto_rows": null,
            "grid_column": null,
            "grid_gap": null,
            "grid_row": null,
            "grid_template_areas": null,
            "grid_template_columns": null,
            "grid_template_rows": null,
            "height": null,
            "justify_content": null,
            "justify_items": null,
            "left": null,
            "margin": null,
            "max_height": null,
            "max_width": null,
            "min_height": null,
            "min_width": null,
            "object_fit": null,
            "object_position": null,
            "order": null,
            "overflow": null,
            "overflow_x": null,
            "overflow_y": null,
            "padding": null,
            "right": null,
            "top": null,
            "visibility": null,
            "width": null
          }
        },
        "2b9ecfa6091a4b3ea16cb695cb484d08": {
          "model_module": "@jupyter-widgets/controls",
          "model_name": "CheckboxModel",
          "model_module_version": "1.5.0",
          "state": {
            "_dom_classes": [],
            "_model_module": "@jupyter-widgets/controls",
            "_model_module_version": "1.5.0",
            "_model_name": "CheckboxModel",
            "_view_count": null,
            "_view_module": "@jupyter-widgets/controls",
            "_view_module_version": "1.5.0",
            "_view_name": "CheckboxView",
            "description": "mosaics_col1",
            "description_tooltip": null,
            "disabled": false,
            "indent": true,
            "layout": "IPY_MODEL_82705a506d43450084d70b27e20d0226",
            "style": "IPY_MODEL_c9967d3bd96e49a18750152e42a3cb4b",
            "value": false
          }
        },
        "f489a35341de4269b56239f98a4f19ca": {
          "model_module": "@jupyter-widgets/controls",
          "model_name": "CheckboxModel",
          "model_module_version": "1.5.0",
          "state": {
            "_dom_classes": [],
            "_model_module": "@jupyter-widgets/controls",
            "_model_module_version": "1.5.0",
            "_model_name": "CheckboxModel",
            "_view_count": null,
            "_view_module": "@jupyter-widgets/controls",
            "_view_module_version": "1.5.0",
            "_view_name": "CheckboxView",
            "description": "mosaics_col1_cog",
            "description_tooltip": null,
            "disabled": false,
            "indent": true,
            "layout": "IPY_MODEL_46b33471ec03452f90263fda63f089f6",
            "style": "IPY_MODEL_f0c379a01d0d4bfcacdd405082cbcb4c",
            "value": false
          }
        },
        "d4ef216214594ec6b096831a4a25ab64": {
          "model_module": "@jupyter-widgets/controls",
          "model_name": "CheckboxModel",
          "model_module_version": "1.5.0",
          "state": {
            "_dom_classes": [],
            "_model_module": "@jupyter-widgets/controls",
            "_model_module_version": "1.5.0",
            "_model_name": "CheckboxModel",
            "_view_count": null,
            "_view_module": "@jupyter-widgets/controls",
            "_view_module_version": "1.5.0",
            "_view_name": "CheckboxView",
            "description": "result_classified",
            "description_tooltip": null,
            "disabled": false,
            "indent": true,
            "layout": "IPY_MODEL_d70ff1ac829645b089566fb5fb2fdba1",
            "style": "IPY_MODEL_640f7adcc2a841e98785d776976ea975",
            "value": true
          }
        },
        "05bf1fb5553544e4912535566348281c": {
          "model_module": "@jupyter-widgets/controls",
          "model_name": "CheckboxModel",
          "model_module_version": "1.5.0",
          "state": {
            "_dom_classes": [],
            "_model_module": "@jupyter-widgets/controls",
            "_model_module_version": "1.5.0",
            "_model_name": "CheckboxModel",
            "_view_count": null,
            "_view_module": "@jupyter-widgets/controls",
            "_view_module_version": "1.5.0",
            "_view_name": "CheckboxView",
            "description": "training_samples",
            "description_tooltip": null,
            "disabled": false,
            "indent": true,
            "layout": "IPY_MODEL_81ce84c506c040d7bdc67371b066f740",
            "style": "IPY_MODEL_ed1cefecf37440949f07ebf629eae890",
            "value": true
          }
        },
        "82705a506d43450084d70b27e20d0226": {
          "model_module": "@jupyter-widgets/base",
          "model_name": "LayoutModel",
          "model_module_version": "1.2.0",
          "state": {
            "_model_module": "@jupyter-widgets/base",
            "_model_module_version": "1.2.0",
            "_model_name": "LayoutModel",
            "_view_count": null,
            "_view_module": "@jupyter-widgets/base",
            "_view_module_version": "1.2.0",
            "_view_name": "LayoutView",
            "align_content": null,
            "align_items": null,
            "align_self": null,
            "border": null,
            "bottom": null,
            "display": null,
            "flex": null,
            "flex_flow": null,
            "grid_area": null,
            "grid_auto_columns": null,
            "grid_auto_flow": null,
            "grid_auto_rows": null,
            "grid_column": null,
            "grid_gap": null,
            "grid_row": null,
            "grid_template_areas": null,
            "grid_template_columns": null,
            "grid_template_rows": null,
            "height": null,
            "justify_content": null,
            "justify_items": null,
            "left": null,
            "margin": null,
            "max_height": null,
            "max_width": null,
            "min_height": null,
            "min_width": null,
            "object_fit": null,
            "object_position": null,
            "order": null,
            "overflow": null,
            "overflow_x": null,
            "overflow_y": null,
            "padding": null,
            "right": null,
            "top": null,
            "visibility": null,
            "width": null
          }
        },
        "c9967d3bd96e49a18750152e42a3cb4b": {
          "model_module": "@jupyter-widgets/controls",
          "model_name": "DescriptionStyleModel",
          "model_module_version": "1.5.0",
          "state": {
            "_model_module": "@jupyter-widgets/controls",
            "_model_module_version": "1.5.0",
            "_model_name": "DescriptionStyleModel",
            "_view_count": null,
            "_view_module": "@jupyter-widgets/base",
            "_view_module_version": "1.2.0",
            "_view_name": "StyleView",
            "description_width": ""
          }
        },
        "46b33471ec03452f90263fda63f089f6": {
          "model_module": "@jupyter-widgets/base",
          "model_name": "LayoutModel",
          "model_module_version": "1.2.0",
          "state": {
            "_model_module": "@jupyter-widgets/base",
            "_model_module_version": "1.2.0",
            "_model_name": "LayoutModel",
            "_view_count": null,
            "_view_module": "@jupyter-widgets/base",
            "_view_module_version": "1.2.0",
            "_view_name": "LayoutView",
            "align_content": null,
            "align_items": null,
            "align_self": null,
            "border": null,
            "bottom": null,
            "display": null,
            "flex": null,
            "flex_flow": null,
            "grid_area": null,
            "grid_auto_columns": null,
            "grid_auto_flow": null,
            "grid_auto_rows": null,
            "grid_column": null,
            "grid_gap": null,
            "grid_row": null,
            "grid_template_areas": null,
            "grid_template_columns": null,
            "grid_template_rows": null,
            "height": null,
            "justify_content": null,
            "justify_items": null,
            "left": null,
            "margin": null,
            "max_height": null,
            "max_width": null,
            "min_height": null,
            "min_width": null,
            "object_fit": null,
            "object_position": null,
            "order": null,
            "overflow": null,
            "overflow_x": null,
            "overflow_y": null,
            "padding": null,
            "right": null,
            "top": null,
            "visibility": null,
            "width": null
          }
        },
        "f0c379a01d0d4bfcacdd405082cbcb4c": {
          "model_module": "@jupyter-widgets/controls",
          "model_name": "DescriptionStyleModel",
          "model_module_version": "1.5.0",
          "state": {
            "_model_module": "@jupyter-widgets/controls",
            "_model_module_version": "1.5.0",
            "_model_name": "DescriptionStyleModel",
            "_view_count": null,
            "_view_module": "@jupyter-widgets/base",
            "_view_module_version": "1.2.0",
            "_view_name": "StyleView",
            "description_width": ""
          }
        },
        "d70ff1ac829645b089566fb5fb2fdba1": {
          "model_module": "@jupyter-widgets/base",
          "model_name": "LayoutModel",
          "model_module_version": "1.2.0",
          "state": {
            "_model_module": "@jupyter-widgets/base",
            "_model_module_version": "1.2.0",
            "_model_name": "LayoutModel",
            "_view_count": null,
            "_view_module": "@jupyter-widgets/base",
            "_view_module_version": "1.2.0",
            "_view_name": "LayoutView",
            "align_content": null,
            "align_items": null,
            "align_self": null,
            "border": null,
            "bottom": null,
            "display": null,
            "flex": null,
            "flex_flow": null,
            "grid_area": null,
            "grid_auto_columns": null,
            "grid_auto_flow": null,
            "grid_auto_rows": null,
            "grid_column": null,
            "grid_gap": null,
            "grid_row": null,
            "grid_template_areas": null,
            "grid_template_columns": null,
            "grid_template_rows": null,
            "height": null,
            "justify_content": null,
            "justify_items": null,
            "left": null,
            "margin": null,
            "max_height": null,
            "max_width": null,
            "min_height": null,
            "min_width": null,
            "object_fit": null,
            "object_position": null,
            "order": null,
            "overflow": null,
            "overflow_x": null,
            "overflow_y": null,
            "padding": null,
            "right": null,
            "top": null,
            "visibility": null,
            "width": null
          }
        },
        "640f7adcc2a841e98785d776976ea975": {
          "model_module": "@jupyter-widgets/controls",
          "model_name": "DescriptionStyleModel",
          "model_module_version": "1.5.0",
          "state": {
            "_model_module": "@jupyter-widgets/controls",
            "_model_module_version": "1.5.0",
            "_model_name": "DescriptionStyleModel",
            "_view_count": null,
            "_view_module": "@jupyter-widgets/base",
            "_view_module_version": "1.2.0",
            "_view_name": "StyleView",
            "description_width": ""
          }
        },
        "81ce84c506c040d7bdc67371b066f740": {
          "model_module": "@jupyter-widgets/base",
          "model_name": "LayoutModel",
          "model_module_version": "1.2.0",
          "state": {
            "_model_module": "@jupyter-widgets/base",
            "_model_module_version": "1.2.0",
            "_model_name": "LayoutModel",
            "_view_count": null,
            "_view_module": "@jupyter-widgets/base",
            "_view_module_version": "1.2.0",
            "_view_name": "LayoutView",
            "align_content": null,
            "align_items": null,
            "align_self": null,
            "border": null,
            "bottom": null,
            "display": null,
            "flex": null,
            "flex_flow": null,
            "grid_area": null,
            "grid_auto_columns": null,
            "grid_auto_flow": null,
            "grid_auto_rows": null,
            "grid_column": null,
            "grid_gap": null,
            "grid_row": null,
            "grid_template_areas": null,
            "grid_template_columns": null,
            "grid_template_rows": null,
            "height": null,
            "justify_content": null,
            "justify_items": null,
            "left": null,
            "margin": null,
            "max_height": null,
            "max_width": null,
            "min_height": null,
            "min_width": null,
            "object_fit": null,
            "object_position": null,
            "order": null,
            "overflow": null,
            "overflow_x": null,
            "overflow_y": null,
            "padding": null,
            "right": null,
            "top": null,
            "visibility": null,
            "width": null
          }
        },
        "ed1cefecf37440949f07ebf629eae890": {
          "model_module": "@jupyter-widgets/controls",
          "model_name": "DescriptionStyleModel",
          "model_module_version": "1.5.0",
          "state": {
            "_model_module": "@jupyter-widgets/controls",
            "_model_module_version": "1.5.0",
            "_model_name": "DescriptionStyleModel",
            "_view_count": null,
            "_view_module": "@jupyter-widgets/base",
            "_view_module_version": "1.2.0",
            "_view_name": "StyleView",
            "description_width": ""
          }
        },
        "104a060e34b647c0b01501b3b6310ef5": {
          "model_module": "@jupyter-widgets/controls",
          "model_name": "HBoxModel",
          "model_module_version": "1.5.0",
          "state": {
            "_dom_classes": [],
            "_model_module": "@jupyter-widgets/controls",
            "_model_module_version": "1.5.0",
            "_model_name": "HBoxModel",
            "_view_count": null,
            "_view_module": "@jupyter-widgets/controls",
            "_view_module_version": "1.5.0",
            "_view_name": "HBoxView",
            "box_style": "",
            "children": [
              "IPY_MODEL_aeda852b5a4146f0b7f3c740de9e6060"
            ],
            "layout": "IPY_MODEL_5b28f03bf3704abeac48b4cc7d2e15f5"
          }
        },
        "aeda852b5a4146f0b7f3c740de9e6060": {
          "model_module": "@jupyter-widgets/output",
          "model_name": "OutputModel",
          "model_module_version": "1.0.0",
          "state": {
            "_dom_classes": [],
            "_model_module": "@jupyter-widgets/output",
            "_model_module_version": "1.0.0",
            "_model_name": "OutputModel",
            "_view_count": null,
            "_view_module": "@jupyter-widgets/output",
            "_view_module_version": "1.0.0",
            "_view_name": "OutputView",
            "layout": "IPY_MODEL_a6696795dc9d49ae9817c807e795178f",
            "msg_id": "",
            "outputs": [
              {
                "output_type": "stream",
                "name": "stdout",
                "text": [
                  "Subpasta: training_samples\n",
                  "Número de arquivos: 15\n",
                  "\"samples_fire_v1_l89_bolivia_r1_20230000000000-0000000000.tif\",\n",
                  "\"samples_fire_v1_l89_bolivia_r1_20230000000000-0000014848.tif\",\n",
                  "\"samples_fire_v1_l89_bolivia_r1_20230000000000-0000029696.tif\",\n",
                  "\"samples_fire_v1_l89_bolivia_r1_20230000014848-0000000000.tif\",\n",
                  "\"samples_fire_v1_l89_bolivia_r1_20230000014848-0000014848.tif\",\n",
                  "\"samples_fire_v1_l89_bolivia_r1_20230000014848-0000029696.tif\",\n",
                  "\"samples_fire_v1_l89_bolivia_r2_20230000000000-0000000000.tif\",\n",
                  "\"samples_fire_v1_l89_bolivia_r2_20230000000000-0000014848.tif\",\n",
                  "\"samples_fire_v1_l89_bolivia_r2_20230000014848-0000000000.tif\",\n",
                  "\"samples_fire_v1_l89_bolivia_r2_20230000014848-0000014848.tif\",\n",
                  "\"samples_fire_v1_l89_bolivia_r3_2023.tif\",\n",
                  "\"samples_fire_v1_l89_bolivia_r3_20230000000000-0000000000.tif\",\n",
                  "\"samples_fire_v1_l89_bolivia_r3_20230000000000-0000014848.tif\",\n",
                  "\"samples_fire_v1_l89_bolivia_r3_20230000014848-0000000000.tif\",\n",
                  "\"samples_fire_v1_l89_bolivia_r3_20230000014848-0000014848.tif\",\n"
                ]
              }
            ]
          }
        },
        "5b28f03bf3704abeac48b4cc7d2e15f5": {
          "model_module": "@jupyter-widgets/base",
          "model_name": "LayoutModel",
          "model_module_version": "1.2.0",
          "state": {
            "_model_module": "@jupyter-widgets/base",
            "_model_module_version": "1.2.0",
            "_model_name": "LayoutModel",
            "_view_count": null,
            "_view_module": "@jupyter-widgets/base",
            "_view_module_version": "1.2.0",
            "_view_name": "LayoutView",
            "align_content": null,
            "align_items": null,
            "align_self": null,
            "border": null,
            "bottom": null,
            "display": "flex",
            "flex": null,
            "flex_flow": "row",
            "grid_area": null,
            "grid_auto_columns": null,
            "grid_auto_flow": null,
            "grid_auto_rows": null,
            "grid_column": null,
            "grid_gap": null,
            "grid_row": null,
            "grid_template_areas": null,
            "grid_template_columns": null,
            "grid_template_rows": null,
            "height": null,
            "justify_content": "space-between",
            "justify_items": null,
            "left": null,
            "margin": null,
            "max_height": null,
            "max_width": null,
            "min_height": null,
            "min_width": null,
            "object_fit": null,
            "object_position": null,
            "order": null,
            "overflow": null,
            "overflow_x": null,
            "overflow_y": null,
            "padding": null,
            "right": null,
            "top": null,
            "visibility": null,
            "width": null
          }
        },
        "a6696795dc9d49ae9817c807e795178f": {
          "model_module": "@jupyter-widgets/base",
          "model_name": "LayoutModel",
          "model_module_version": "1.2.0",
          "state": {
            "_model_module": "@jupyter-widgets/base",
            "_model_module_version": "1.2.0",
            "_model_name": "LayoutModel",
            "_view_count": null,
            "_view_module": "@jupyter-widgets/base",
            "_view_module_version": "1.2.0",
            "_view_name": "LayoutView",
            "align_content": null,
            "align_items": null,
            "align_self": null,
            "border": null,
            "bottom": null,
            "display": null,
            "flex": null,
            "flex_flow": null,
            "grid_area": null,
            "grid_auto_columns": null,
            "grid_auto_flow": null,
            "grid_auto_rows": null,
            "grid_column": null,
            "grid_gap": null,
            "grid_row": null,
            "grid_template_areas": null,
            "grid_template_columns": null,
            "grid_template_rows": null,
            "height": null,
            "justify_content": null,
            "justify_items": null,
            "left": null,
            "margin": null,
            "max_height": null,
            "max_width": null,
            "min_height": null,
            "min_width": null,
            "object_fit": null,
            "object_position": null,
            "order": null,
            "overflow": null,
            "overflow_x": null,
            "overflow_y": null,
            "padding": null,
            "right": null,
            "top": null,
            "visibility": null,
            "width": null
          }
        },
        "3f588b8fa48f41ea92c5e5d0a876537a": {
          "model_module": "@jupyter-widgets/controls",
          "model_name": "HBoxModel",
          "model_module_version": "1.5.0",
          "state": {
            "_dom_classes": [],
            "_model_module": "@jupyter-widgets/controls",
            "_model_module_version": "1.5.0",
            "_model_name": "HBoxModel",
            "_view_count": null,
            "_view_module": "@jupyter-widgets/controls",
            "_view_module_version": "1.5.0",
            "_view_name": "HBoxView",
            "box_style": "",
            "children": [
              "IPY_MODEL_0b77b24ea1ab41edae4e3b0c8c64a6a5",
              "IPY_MODEL_c2ad869963004eddbcb5145047e9bdd7"
            ],
            "layout": "IPY_MODEL_5b28f03bf3704abeac48b4cc7d2e15f5"
          }
        },
        "0b77b24ea1ab41edae4e3b0c8c64a6a5": {
          "model_module": "@jupyter-widgets/output",
          "model_name": "OutputModel",
          "model_module_version": "1.0.0",
          "state": {
            "_dom_classes": [],
            "_model_module": "@jupyter-widgets/output",
            "_model_module_version": "1.0.0",
            "_model_name": "OutputModel",
            "_view_count": null,
            "_view_module": "@jupyter-widgets/output",
            "_view_module_version": "1.0.0",
            "_view_name": "OutputView",
            "layout": "IPY_MODEL_0efae8b3777d4c4b9d5732712ec06cb0",
            "msg_id": "",
            "outputs": [
              {
                "output_type": "stream",
                "name": "stdout",
                "text": [
                  "Subpasta: result_classified\n",
                  "Número de arquivos: 13\n",
                  "\"burned_area_bolivia_l78_v1_region1_2013.tif\",\n",
                  "\"burned_area_bolivia_l78_v1_region1_2014.tif\",\n",
                  "\"burned_area_bolivia_l78_v1_region1_2015.tif\",\n",
                  "\"burned_area_bolivia_l78_v1_region1_2016.tif\",\n",
                  "\"burned_area_bolivia_l78_v1_region1_2017.tif\",\n",
                  "\"burned_area_bolivia_l78_v1_region1_2018.tif\",\n",
                  "\"burned_area_bolivia_l78_v1_region1_2019.tif\",\n",
                  "\"burned_area_bolivia_l78_v1_region1_2020.tif\",\n",
                  "\"burned_area_bolivia_l78_v1_region1_2021.tif\",\n",
                  "\"burned_area_bolivia_l78_v1_region2_2013.tif\",\n",
                  "\"burned_area_bolivia_l78_v1_region2_2014.tif\",\n",
                  "\"burned_area_bolivia_l89_v1_region1_2022.tif\",\n",
                  "\"burned_area_bolivia_l89_v1_region1_2023.tif\",\n"
                ]
              }
            ]
          }
        },
        "c2ad869963004eddbcb5145047e9bdd7": {
          "model_module": "@jupyter-widgets/output",
          "model_name": "OutputModel",
          "model_module_version": "1.0.0",
          "state": {
            "_dom_classes": [],
            "_model_module": "@jupyter-widgets/output",
            "_model_module_version": "1.0.0",
            "_model_name": "OutputModel",
            "_view_count": null,
            "_view_module": "@jupyter-widgets/output",
            "_view_module_version": "1.0.0",
            "_view_name": "OutputView",
            "layout": "IPY_MODEL_7dca20b1d43f4c8aaefc4671c80f00d3",
            "msg_id": "",
            "outputs": [
              {
                "output_type": "stream",
                "name": "stdout",
                "text": [
                  "Subpasta: training_samples\n",
                  "Número de arquivos: 15\n",
                  "\"samples_fire_v1_l89_bolivia_r1_20230000000000-0000000000.tif\",\n",
                  "\"samples_fire_v1_l89_bolivia_r1_20230000000000-0000014848.tif\",\n",
                  "\"samples_fire_v1_l89_bolivia_r1_20230000000000-0000029696.tif\",\n",
                  "\"samples_fire_v1_l89_bolivia_r1_20230000014848-0000000000.tif\",\n",
                  "\"samples_fire_v1_l89_bolivia_r1_20230000014848-0000014848.tif\",\n",
                  "\"samples_fire_v1_l89_bolivia_r1_20230000014848-0000029696.tif\",\n",
                  "\"samples_fire_v1_l89_bolivia_r2_20230000000000-0000000000.tif\",\n",
                  "\"samples_fire_v1_l89_bolivia_r2_20230000000000-0000014848.tif\",\n",
                  "\"samples_fire_v1_l89_bolivia_r2_20230000014848-0000000000.tif\",\n",
                  "\"samples_fire_v1_l89_bolivia_r2_20230000014848-0000014848.tif\",\n",
                  "\"samples_fire_v1_l89_bolivia_r3_2023.tif\",\n",
                  "\"samples_fire_v1_l89_bolivia_r3_20230000000000-0000000000.tif\",\n",
                  "\"samples_fire_v1_l89_bolivia_r3_20230000000000-0000014848.tif\",\n",
                  "\"samples_fire_v1_l89_bolivia_r3_20230000014848-0000000000.tif\",\n",
                  "\"samples_fire_v1_l89_bolivia_r3_20230000014848-0000014848.tif\",\n"
                ]
              }
            ]
          }
        },
        "0efae8b3777d4c4b9d5732712ec06cb0": {
          "model_module": "@jupyter-widgets/base",
          "model_name": "LayoutModel",
          "model_module_version": "1.2.0",
          "state": {
            "_model_module": "@jupyter-widgets/base",
            "_model_module_version": "1.2.0",
            "_model_name": "LayoutModel",
            "_view_count": null,
            "_view_module": "@jupyter-widgets/base",
            "_view_module_version": "1.2.0",
            "_view_name": "LayoutView",
            "align_content": null,
            "align_items": null,
            "align_self": null,
            "border": null,
            "bottom": null,
            "display": null,
            "flex": null,
            "flex_flow": null,
            "grid_area": null,
            "grid_auto_columns": null,
            "grid_auto_flow": null,
            "grid_auto_rows": null,
            "grid_column": null,
            "grid_gap": null,
            "grid_row": null,
            "grid_template_areas": null,
            "grid_template_columns": null,
            "grid_template_rows": null,
            "height": null,
            "justify_content": null,
            "justify_items": null,
            "left": null,
            "margin": null,
            "max_height": null,
            "max_width": null,
            "min_height": null,
            "min_width": null,
            "object_fit": null,
            "object_position": null,
            "order": null,
            "overflow": null,
            "overflow_x": null,
            "overflow_y": null,
            "padding": null,
            "right": null,
            "top": null,
            "visibility": null,
            "width": null
          }
        },
        "7dca20b1d43f4c8aaefc4671c80f00d3": {
          "model_module": "@jupyter-widgets/base",
          "model_name": "LayoutModel",
          "model_module_version": "1.2.0",
          "state": {
            "_model_module": "@jupyter-widgets/base",
            "_model_module_version": "1.2.0",
            "_model_name": "LayoutModel",
            "_view_count": null,
            "_view_module": "@jupyter-widgets/base",
            "_view_module_version": "1.2.0",
            "_view_name": "LayoutView",
            "align_content": null,
            "align_items": null,
            "align_self": null,
            "border": null,
            "bottom": null,
            "display": null,
            "flex": null,
            "flex_flow": null,
            "grid_area": null,
            "grid_auto_columns": null,
            "grid_auto_flow": null,
            "grid_auto_rows": null,
            "grid_column": null,
            "grid_gap": null,
            "grid_row": null,
            "grid_template_areas": null,
            "grid_template_columns": null,
            "grid_template_rows": null,
            "height": null,
            "justify_content": null,
            "justify_items": null,
            "left": null,
            "margin": null,
            "max_height": null,
            "max_width": null,
            "min_height": null,
            "min_width": null,
            "object_fit": null,
            "object_position": null,
            "order": null,
            "overflow": null,
            "overflow_x": null,
            "overflow_y": null,
            "padding": null,
            "right": null,
            "top": null,
            "visibility": null,
            "width": null
          }
        }
      }
    }
  },
  "cells": [
    {
      "cell_type": "code",
      "execution_count": 4,
      "metadata": {
        "colab": {
          "base_uri": "https://localhost:8080/"
        },
        "id": "wJ1-HWUk_D9a",
        "outputId": "15f13101-eb58-456f-88c5-6d264857ab05"
      },
      "outputs": [
        {
          "output_type": "stream",
          "name": "stdout",
          "text": [
            "fatal: destination path 'mapbiomas_fire_network' already exists and is not an empty directory.\n"
          ]
        }
      ],
      "source": [
        "# 0: Clonando repositorio para o Google\n",
        "# !rm -rf /content/mapbiomas_fire_network  # apagar pasta caso exista, cuidado para não perder alterações\n",
        "!git clone https://github.com/wallyboy22/mapbiomas_fire_network.git # copiando repositorio de referencia para a classificação em rede das áreas queimadas por regiões dos trópicos."
      ]
    },
    {
      "cell_type": "code",
      "source": [
        "# Definição de Parâmetros para o Processamento\n",
        "country = 'bolivia'  # Opções: ['bolivia', 'colombia', 'chile', 'peru', 'paraguay', 'guyana']\n",
        "\n",
        "script_version = '4_0_2'\n",
        "scripts = f'/content/mapbiomas_fire_network/classifications/beta_classification_algorithms/annual_landsat_{script_version}'\n",
        "\n",
        "# importar e autenticar bibliotecas de serviços em nuvem da Google\n",
        "ee_project = f'mapbiomas-{country}'  # Defina o nome do projeto corretamente\n",
        "bucket_name = 'mapbiomas-fire'\n",
        "\n",
        "def authenticates (eeProject,bucketName):\n",
        "  import ee\n",
        "  ee.Authenticate()\n",
        "  ee.Initialize(project=eeProject)\n",
        "\n",
        "  # Autenticação com Google Cloud (necessária no Colab)\n",
        "  from google.colab import auth\n",
        "  auth.authenticate_user()\n",
        "\n",
        "  # Inicializar o cliente do Google Cloud Storage e definir o nome do bucket\n",
        "  from google.cloud import storage\n",
        "  client = storage.Client()\n",
        "  bucket = client.get_bucket(bucketName)\n",
        "\n"
      ],
      "metadata": {
        "id": "c-tHb_KRBvCt"
      },
      "execution_count": 10,
      "outputs": []
    },
    {
      "cell_type": "code",
      "source": [
        "# simple_gui_to_GCS_explorer_optional\n",
        "exec(open(f'{scripts}/B_0_1_simple_gui_to_gcs_explorer_optional.py').read())"
      ],
      "metadata": {
        "colab": {
          "base_uri": "https://localhost:8080/",
          "height": 487,
          "referenced_widgets": [
            "f52e2a003d45470c99196dc33c1b97f5",
            "b093191300834037887063fe9e04198d",
            "d9de7294330245f8a528306fb3f5415f",
            "cf67c8c8204a4eeb90034b5961a16e71",
            "5e36def3a89d4d67b207bca3910c2e99",
            "2b9ecfa6091a4b3ea16cb695cb484d08",
            "f489a35341de4269b56239f98a4f19ca",
            "d4ef216214594ec6b096831a4a25ab64",
            "05bf1fb5553544e4912535566348281c",
            "82705a506d43450084d70b27e20d0226",
            "c9967d3bd96e49a18750152e42a3cb4b",
            "46b33471ec03452f90263fda63f089f6",
            "f0c379a01d0d4bfcacdd405082cbcb4c",
            "d70ff1ac829645b089566fb5fb2fdba1",
            "640f7adcc2a841e98785d776976ea975",
            "81ce84c506c040d7bdc67371b066f740",
            "ed1cefecf37440949f07ebf629eae890",
            "104a060e34b647c0b01501b3b6310ef5",
            "aeda852b5a4146f0b7f3c740de9e6060",
            "5b28f03bf3704abeac48b4cc7d2e15f5",
            "a6696795dc9d49ae9817c807e795178f",
            "3f588b8fa48f41ea92c5e5d0a876537a",
            "0b77b24ea1ab41edae4e3b0c8c64a6a5",
            "c2ad869963004eddbcb5145047e9bdd7",
            "0efae8b3777d4c4b9d5732712ec06cb0",
            "7dca20b1d43f4c8aaefc4671c80f00d3"
          ]
        },
        "id": "LgB5RlRFD7ic",
        "outputId": "246b9424-6cad-4d00-8837-bcac8f97dc75"
      },
      "execution_count": 11,
      "outputs": [
        {
          "output_type": "display_data",
          "data": {
            "text/plain": [
              "Dropdown(description='Países:', index=1, options=('', 'bolivia', 'chile', 'colombia', 'focus_sul_america', 'gu…"
            ],
            "application/vnd.jupyter.widget-view+json": {
              "version_major": 2,
              "version_minor": 0,
              "model_id": "f52e2a003d45470c99196dc33c1b97f5"
            }
          },
          "metadata": {}
        },
        {
          "output_type": "display_data",
          "data": {
            "text/plain": [
              "VBox(children=(Checkbox(value=False, description='mosaics_col1'), Checkbox(value=False, description='mosaics_c…"
            ],
            "application/vnd.jupyter.widget-view+json": {
              "version_major": 2,
              "version_minor": 0,
              "model_id": "cf67c8c8204a4eeb90034b5961a16e71"
            }
          },
          "metadata": {}
        },
        {
          "output_type": "display_data",
          "data": {
            "text/plain": [
              "HBox(children=(Output(), Output()), layout=Layout(display='flex', flex_flow='row', justify_content='space-betw…"
            ],
            "application/vnd.jupyter.widget-view+json": {
              "version_major": 2,
              "version_minor": 0,
              "model_id": "3f588b8fa48f41ea92c5e5d0a876537a"
            }
          },
          "metadata": {}
        }
      ]
    },
    {
      "cell_type": "code",
      "source": [
        "# simple_gui_to_GCS_explorer_optional\n",
        "exec(open(f'{scripts}/B_1_0_gee_gui_collect_samples_burned_area_classification.py').read())"
      ],
      "metadata": {
        "id": "gLfLweBQNSAx",
        "outputId": "94f6fd22-9f62-4d81-fa09-d9413b0a1072",
        "colab": {
          "base_uri": "https://localhost:8080/"
        }
      },
      "execution_count": 12,
      "outputs": [
        {
          "output_type": "stream",
          "name": "stdout",
          "text": [
            "### Como funciona e como usar o toolkit ###\n",
            "Apresentação: https://docs.google.com/presentation/d/1iMRXRH4xoWTFPSSzDOJkB6c7KJLPggxrnvYzVQ3BzP0/edit#slide=id.g220825c6698_0_546\n",
            "\n",
            "### Acesse o Toolkit no GEE ###\n",
            "Link do Toolkit: https://code.earthengine.google.com/?scriptPath=users%2Fmapbiomasworkspace1%2Fmapbiomas-fire%3A1-Toolkit_Collection1%2FToolkit_samples_collection\n"
          ]
        }
      ]
    },
    {
      "cell_type": "code",
      "source": [
        "# simple_gui_to_flux_tensorflow_models_training"
      ],
      "metadata": {
        "id": "Wtrc1QRQM2P7"
      },
      "execution_count": null,
      "outputs": []
    },
    {
      "cell_type": "code",
      "source": [
        "# simple_gui_to_flux_tensorflow_classification"
      ],
      "metadata": {
        "id": "1Rb2uxNEr2ge"
      },
      "execution_count": null,
      "outputs": []
    },
    {
      "cell_type": "code",
      "source": [
        "# first_analyses_annual_burned_area"
      ],
      "metadata": {
        "id": "SMlXQg2vr7Vc"
      },
      "execution_count": null,
      "outputs": []
    },
    {
      "cell_type": "code",
      "source": [
        "# processing_subproducts"
      ],
      "metadata": {
        "id": "_WZx_m7WsGoJ"
      },
      "execution_count": null,
      "outputs": []
    },
    {
      "cell_type": "code",
      "source": [],
      "metadata": {
        "id": "r-vEA2XPsLiC"
      },
      "execution_count": null,
      "outputs": []
    }
  ]
}