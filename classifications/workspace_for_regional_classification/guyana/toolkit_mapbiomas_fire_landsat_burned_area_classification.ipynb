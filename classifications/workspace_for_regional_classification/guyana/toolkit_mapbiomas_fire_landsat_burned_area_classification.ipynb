{
  "nbformat": 4,
  "nbformat_minor": 0,
  "metadata": {
    "colab": {
      "provenance": []
    },
    "kernelspec": {
      "name": "python3",
      "display_name": "Python 3"
    },
    "language_info": {
      "name": "python"
    },
    "widgets": {
      "application/vnd.jupyter.widget-state+json": {
        "290fcdf4da84427ca23a39606765954a": {
          "model_module": "@jupyter-widgets/controls",
          "model_name": "DropdownModel",
          "model_module_version": "1.5.0",
          "state": {
            "_dom_classes": [],
            "_model_module": "@jupyter-widgets/controls",
            "_model_module_version": "1.5.0",
            "_model_name": "DropdownModel",
            "_options_labels": [
              "",
              "bolivia",
              "chile",
              "colombia",
              "focus_sul_america",
              "guyana",
              "paraguay",
              "peru"
            ],
            "_view_count": null,
            "_view_module": "@jupyter-widgets/controls",
            "_view_module_version": "1.5.0",
            "_view_name": "DropdownView",
            "description": "Países:",
            "description_tooltip": null,
            "disabled": false,
            "index": 0,
            "layout": "IPY_MODEL_929cf219b55a4b898b95f1f5af66ef4c",
            "style": "IPY_MODEL_89cd90bd6a0844b580ccf94381d92b81"
          }
        },
        "929cf219b55a4b898b95f1f5af66ef4c": {
          "model_module": "@jupyter-widgets/base",
          "model_name": "LayoutModel",
          "model_module_version": "1.2.0",
          "state": {
            "_model_module": "@jupyter-widgets/base",
            "_model_module_version": "1.2.0",
            "_model_name": "LayoutModel",
            "_view_count": null,
            "_view_module": "@jupyter-widgets/base",
            "_view_module_version": "1.2.0",
            "_view_name": "LayoutView",
            "align_content": null,
            "align_items": null,
            "align_self": null,
            "border": null,
            "bottom": null,
            "display": null,
            "flex": null,
            "flex_flow": null,
            "grid_area": null,
            "grid_auto_columns": null,
            "grid_auto_flow": null,
            "grid_auto_rows": null,
            "grid_column": null,
            "grid_gap": null,
            "grid_row": null,
            "grid_template_areas": null,
            "grid_template_columns": null,
            "grid_template_rows": null,
            "height": null,
            "justify_content": null,
            "justify_items": null,
            "left": null,
            "margin": null,
            "max_height": null,
            "max_width": null,
            "min_height": null,
            "min_width": null,
            "object_fit": null,
            "object_position": null,
            "order": null,
            "overflow": null,
            "overflow_x": null,
            "overflow_y": null,
            "padding": null,
            "right": null,
            "top": null,
            "visibility": null,
            "width": null
          }
        },
        "89cd90bd6a0844b580ccf94381d92b81": {
          "model_module": "@jupyter-widgets/controls",
          "model_name": "DescriptionStyleModel",
          "model_module_version": "1.5.0",
          "state": {
            "_model_module": "@jupyter-widgets/controls",
            "_model_module_version": "1.5.0",
            "_model_name": "DescriptionStyleModel",
            "_view_count": null,
            "_view_module": "@jupyter-widgets/base",
            "_view_module_version": "1.2.0",
            "_view_name": "StyleView",
            "description_width": ""
          }
        },
        "509eea49a1914a6498e63063a98c1094": {
          "model_module": "@jupyter-widgets/controls",
          "model_name": "VBoxModel",
          "model_module_version": "1.5.0",
          "state": {
            "_dom_classes": [],
            "_model_module": "@jupyter-widgets/controls",
            "_model_module_version": "1.5.0",
            "_model_name": "VBoxModel",
            "_view_count": null,
            "_view_module": "@jupyter-widgets/controls",
            "_view_module_version": "1.5.0",
            "_view_name": "VBoxView",
            "box_style": "",
            "children": [],
            "layout": "IPY_MODEL_f84347b122544370a762ce5ef81cceb6"
          }
        },
        "f84347b122544370a762ce5ef81cceb6": {
          "model_module": "@jupyter-widgets/base",
          "model_name": "LayoutModel",
          "model_module_version": "1.2.0",
          "state": {
            "_model_module": "@jupyter-widgets/base",
            "_model_module_version": "1.2.0",
            "_model_name": "LayoutModel",
            "_view_count": null,
            "_view_module": "@jupyter-widgets/base",
            "_view_module_version": "1.2.0",
            "_view_name": "LayoutView",
            "align_content": null,
            "align_items": null,
            "align_self": null,
            "border": null,
            "bottom": null,
            "display": null,
            "flex": null,
            "flex_flow": null,
            "grid_area": null,
            "grid_auto_columns": null,
            "grid_auto_flow": null,
            "grid_auto_rows": null,
            "grid_column": null,
            "grid_gap": null,
            "grid_row": null,
            "grid_template_areas": null,
            "grid_template_columns": null,
            "grid_template_rows": null,
            "height": null,
            "justify_content": null,
            "justify_items": null,
            "left": null,
            "margin": null,
            "max_height": null,
            "max_width": null,
            "min_height": null,
            "min_width": null,
            "object_fit": null,
            "object_position": null,
            "order": null,
            "overflow": null,
            "overflow_x": null,
            "overflow_y": null,
            "padding": null,
            "right": null,
            "top": null,
            "visibility": null,
            "width": null
          }
        }
      }
    }
  },
  "cells": [
    {
      "cell_type": "code",
      "execution_count": null,
      "metadata": {
        "colab": {
          "base_uri": "https://localhost:8080/"
        },
        "id": "wJ1-HWUk_D9a",
        "outputId": "63bff754-8879-4cb5-9e31-5e9d0c4442b2"
      },
      "outputs": [
        {
          "output_type": "stream",
          "name": "stdout",
          "text": [
            "Cloning into 'mapbiomas_fire_network'...\n",
            "remote: Enumerating objects: 117, done.\u001b[K\n",
            "remote: Counting objects: 100% (117/117), done.\u001b[K\n",
            "remote: Compressing objects: 100% (81/81), done.\u001b[K\n",
            "remote: Total 117 (delta 32), reused 0 (delta 0), pack-reused 0 (from 0)\u001b[K\n",
            "Receiving objects: 100% (117/117), 30.36 KiB | 536.00 KiB/s, done.\n",
            "Resolving deltas: 100% (32/32), done.\n"
          ]
        }
      ],
      "source": [
        "# 0: Clonando repositorio para o Google\n",
        "# !rm -rf /content/mapbiomas_fire_network  # apagar pasta caso exista, cuidado para não perder alterações\n",
        "!git clone https://github.com/wallyboy22/mapbiomas_fire_network.git # copiando repositorio de referencia para a classificação em rede das áreas queimadas por regiões dos trópicos."
      ]
    },
    {
      "cell_type": "code",
      "source": [
        "#\n",
        "\n",
        "# 1: Ler o endereço atual no disco\n",
        "!pwd\n",
        "\n",
        "# 2: Entrar no diretório do repositório clonado\n",
        "%cd mapbiomas_fire_network\n",
        "\n",
        "# 3: Verificar o diretório atual novamente\n",
        "!pwd\n",
        "\n",
        "# 4: Autenticação no GitHub (apenas se ainda não estiver configurado)\n",
        "!git config --global user.name \"SeuNomeDeUsuario\"\n",
        "!git config --global user.email \"seuemail@example.com\"\n",
        "\n",
        "# 5: Verificar o status do repositório para ver se há modificações\n",
        "!git status\n",
        "\n",
        "# 6: Listar arquivos no diretório para confirmar se está na pasta correta\n",
        "!ls -la\n",
        "\n",
        "# 7: Adicionar os arquivos modificados (se houver modificações)\n",
        "!git add .\n",
        "\n",
        "# 8: Fazer o commit das alterações com uma mensagem\n",
        "!git commit -m \"Descrição das alterações\"\n",
        "\n",
        "# 9: Atualizar o repositório no GitHub (envio das mudanças)\n",
        "!git push origin main\n"
      ],
      "metadata": {
        "colab": {
          "base_uri": "https://localhost:8080/"
        },
        "id": "3FV2ZUBe2YKI",
        "outputId": "20c39289-1550-40e5-9cfb-954d2b2daec3"
      },
      "execution_count": null,
      "outputs": [
        {
          "output_type": "stream",
          "name": "stdout",
          "text": [
            "On branch main\n",
            "Your branch is up to date with 'origin/main'.\n",
            "\n",
            "nothing to commit, working tree clean\n",
            "total 20\n",
            "drwxr-xr-x 4 root root 4096 Oct 15 11:07 .\n",
            "drwxr-xr-x 1 root root 4096 Oct 15 11:07 ..\n",
            "drwxr-xr-x 3 root root 4096 Oct 15 11:07 classifications\n",
            "drwxr-xr-x 8 root root 4096 Oct 15 11:12 .git\n",
            "-rw-r--r-- 1 root root 1396 Oct 15 11:07 README.md\n"
          ]
        }
      ]
    },
    {
      "cell_type": "code",
      "source": [
        "# !git clone https://github.com/wallyboy22/mapbiomas_fire_network.git\n",
        "# copie este arquivo de referencia para dar  arquivo\n",
        "# Definição de Parâmetros para o Processamento\n",
        "country = 'bolivia'  # Opções: ['bolivia', 'colombia', 'chile', 'peru', 'paraguay', 'guyana']\n",
        "\n",
        "script_version = '4_0_2'\n",
        "scripts = f'/content/mapbiomas_fire_network/classifications/beta_versions/annual_landsat_{script_version}'\n",
        "\n",
        "# importar e autenticar bibliotecas de serviços em nuvem da Google\n",
        "ee_project = f'mapbiomas-{country}'  # Defina o nome do projeto corretamente\n",
        "bucket_name = 'mapbiomas-fire'\n",
        "\n",
        "def authenticates (eeProject,bucketName):\n",
        "  import ee\n",
        "  ee.Authenticate()\n",
        "  ee.Initialize(project=eeProject)\n",
        "\n",
        "  # Autenticação com Google Cloud (necessária no Colab)\n",
        "  from google.colab import auth\n",
        "  auth.authenticate_user()\n",
        "\n",
        "  # Inicializar o cliente do Google Cloud Storage e definir o nome do bucket\n",
        "  from google.cloud import storage\n",
        "  client = storage.Client()\n",
        "  bucket = client.get_bucket(bucketName)\n",
        "\n"
      ],
      "metadata": {
        "id": "c-tHb_KRBvCt"
      },
      "execution_count": null,
      "outputs": []
    },
    {
      "cell_type": "code",
      "source": [
        "# simple_gui_to_GCS_explorer_optional\n",
        "exec(open(f'{scripts}/B_1_0_simple_gui_to_explorer_optional.py').read())"
      ],
      "metadata": {
        "colab": {
          "base_uri": "https://localhost:8080/",
          "height": 49,
          "referenced_widgets": [
            "290fcdf4da84427ca23a39606765954a",
            "929cf219b55a4b898b95f1f5af66ef4c",
            "89cd90bd6a0844b580ccf94381d92b81",
            "509eea49a1914a6498e63063a98c1094",
            "f84347b122544370a762ce5ef81cceb6"
          ]
        },
        "id": "LgB5RlRFD7ic",
        "outputId": "9e1cdf5f-44df-4ecf-865e-cc623c9d73bf"
      },
      "execution_count": null,
      "outputs": [
        {
          "output_type": "display_data",
          "data": {
            "text/plain": [
              "Dropdown(description='Países:', options=('', 'bolivia', 'chile', 'colombia', 'focus_sul_america', 'guyana', 'p…"
            ],
            "application/vnd.jupyter.widget-view+json": {
              "version_major": 2,
              "version_minor": 0,
              "model_id": "290fcdf4da84427ca23a39606765954a"
            }
          },
          "metadata": {}
        },
        {
          "output_type": "display_data",
          "data": {
            "text/plain": [
              "VBox()"
            ],
            "application/vnd.jupyter.widget-view+json": {
              "version_major": 2,
              "version_minor": 0,
              "model_id": "509eea49a1914a6498e63063a98c1094"
            }
          },
          "metadata": {}
        }
      ]
    },
    {
      "cell_type": "code",
      "source": [
        "# (markdown) links_to_GEE_gui_to_collect_samples_to_classification_burned_area"
      ],
      "metadata": {
        "id": "gLfLweBQNSAx"
      },
      "execution_count": null,
      "outputs": []
    },
    {
      "cell_type": "code",
      "source": [
        "# simple_gui_to_flux_tensorflow_models_training"
      ],
      "metadata": {
        "id": "Wtrc1QRQM2P7"
      },
      "execution_count": null,
      "outputs": []
    },
    {
      "cell_type": "code",
      "source": [
        "# simple_gui_to_flux_tensorflow_classification"
      ],
      "metadata": {
        "id": "1Rb2uxNEr2ge"
      },
      "execution_count": null,
      "outputs": []
    },
    {
      "cell_type": "code",
      "source": [
        "# first_analyses_annual_burned_area"
      ],
      "metadata": {
        "id": "SMlXQg2vr7Vc"
      },
      "execution_count": null,
      "outputs": []
    },
    {
      "cell_type": "code",
      "source": [
        "# processing_subproducts"
      ],
      "metadata": {
        "id": "_WZx_m7WsGoJ"
      },
      "execution_count": null,
      "outputs": []
    },
    {
      "cell_type": "code",
      "source": [],
      "metadata": {
        "id": "r-vEA2XPsLiC"
      },
      "execution_count": null,
      "outputs": []
    }
  ]
}
